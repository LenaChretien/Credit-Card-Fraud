{
 "cells": [
  {
   "cell_type": "code",
   "execution_count": 14,
   "id": "5162913a",
   "metadata": {},
   "outputs": [],
   "source": [
    "#run load_clean_app_data.py"
   ]
  },
  {
   "cell_type": "code",
   "execution_count": 16,
   "id": "6e03474a",
   "metadata": {},
   "outputs": [
    {
     "name": "stdout",
     "output_type": "stream",
     "text": [
      "(87480, 71)\n",
      "(146899, 71)\n",
      "(21019, 72)\n",
      "(213360, 72)\n",
      "(234379, 71)\n"
     ]
    }
   ],
   "source": [
    "men_app = pd.read_csv('men_app.csv')\n",
    "women_app = pd.read_csv('women_app.csv')\n",
    "\n",
    "target1 = pd.read_csv('target1_app.csv')\n",
    "target0 = pd.read_csv('target0_app.csv')\n",
    "\n",
    "app = pd.read_csv('app_clean.csv')\n",
    "\n",
    "print(men.shape)\n",
    "print(women.shape)\n",
    "print(target1.shape)\n",
    "print(target0.shape)\n",
    "print(app_filter.shape)"
   ]
  }
 ],
 "metadata": {
  "kernelspec": {
   "display_name": "Python 3",
   "language": "python",
   "name": "python3"
  },
  "language_info": {
   "codemirror_mode": {
    "name": "ipython",
    "version": 3
   },
   "file_extension": ".py",
   "mimetype": "text/x-python",
   "name": "python",
   "nbconvert_exporter": "python",
   "pygments_lexer": "ipython3",
   "version": "3.8.8"
  }
 },
 "nbformat": 4,
 "nbformat_minor": 5
}
