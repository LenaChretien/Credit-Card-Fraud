{
 "cells": [
  {
   "cell_type": "code",
   "execution_count": 17,
   "id": "60328f2d",
   "metadata": {},
   "outputs": [],
   "source": [
    "import numpy as np\n",
    "import pandas as pd\n",
    "from matplotlib import pyplot as plt\n",
    "plt.style.use('ggplot')\n",
    "pd.get_option(\"display.max_columns\",None)\n",
    "pd.get_option(\"display.max_rows\", None)\n",
    "import seaborn as sns\n",
    "import matplotlib.font_manager\n",
    "from matplotlib.colors import LinearSegmentedColormap\n",
    "\n",
    "#import plotly.plotly  as py\n",
    "#import plotly.graph_objs as go\n",
    "#plotly.tools.set_credentials_file(username='***', api_key='***')"
   ]
  },
  {
   "cell_type": "code",
   "execution_count": 18,
   "id": "f32c84ff",
   "metadata": {},
   "outputs": [],
   "source": [
    "pre_app = pd.read_csv('pre_app_clean.csv')\n",
    "app = pd.read_csv('app_clean.csv')"
   ]
  },
  {
   "cell_type": "code",
   "execution_count": 20,
   "id": "001ea0b7",
   "metadata": {},
   "outputs": [
    {
     "data": {
      "text/plain": [
       "(234379, 72)"
      ]
     },
     "execution_count": 20,
     "metadata": {},
     "output_type": "execute_result"
    }
   ],
   "source": [
    "app.shape"
   ]
  },
  {
   "cell_type": "code",
   "execution_count": 14,
   "id": "dd3fa148",
   "metadata": {},
   "outputs": [
    {
     "data": {
      "text/plain": [
       "(338032,)"
      ]
     },
     "execution_count": 14,
     "metadata": {},
     "output_type": "execute_result"
    }
   ],
   "source": [
    "pre_app['id_curr'].unique().shape"
   ]
  },
  {
   "cell_type": "code",
   "execution_count": 15,
   "id": "4f3190e1",
   "metadata": {},
   "outputs": [],
   "source": [
    "app = pre_app.merge(app, how = 'inner', on = 'id_curr')"
   ]
  },
  {
   "cell_type": "code",
   "execution_count": 16,
   "id": "d8663de5",
   "metadata": {},
   "outputs": [
    {
     "data": {
      "text/plain": [
       "(222733,)"
      ]
     },
     "execution_count": 16,
     "metadata": {},
     "output_type": "execute_result"
    }
   ],
   "source": [
    "app['id_curr'].unique().shape"
   ]
  },
  {
   "cell_type": "code",
   "execution_count": 6,
   "id": "e3ced90c",
   "metadata": {},
   "outputs": [],
   "source": [
    "target1 = app[app['target'] == 1]\n",
    "target0 = app[app['target'] == 0]"
   ]
  },
  {
   "cell_type": "code",
   "execution_count": 7,
   "id": "7d8eb8b1",
   "metadata": {},
   "outputs": [
    {
     "data": {
      "text/plain": [
       "1017655"
      ]
     },
     "execution_count": 7,
     "metadata": {},
     "output_type": "execute_result"
    }
   ],
   "source": [
    "target1.shape[0]+target0.shape[0]"
   ]
  },
  {
   "cell_type": "code",
   "execution_count": null,
   "id": "824a8aee",
   "metadata": {},
   "outputs": [],
   "source": [
    "men = app[app['gender'] == 'M']\n",
    "women = app[app['gender'] == 'F']\n"
   ]
  },
  {
   "cell_type": "code",
   "execution_count": null,
   "id": "7aa36bb9",
   "metadata": {},
   "outputs": [],
   "source": [
    "rej = app[app['status'] == 'Refused']\n",
    "approv = app[app['status'] == 'Approved']\n"
   ]
  },
  {
   "cell_type": "code",
   "execution_count": null,
   "id": "8f13c5bf",
   "metadata": {},
   "outputs": [],
   "source": [
    "type_credit = app['credit_type'].value_counts()\n",
    "type_credit = (type_credit/app.shape[0])*100\n",
    "type_credit"
   ]
  },
  {
   "cell_type": "code",
   "execution_count": null,
   "id": "9101dbac",
   "metadata": {},
   "outputs": [],
   "source": [
    "fig, ax = plt.subplots()\n",
    "\n",
    "plt.rcParams['font.sans-serif'] = 'Arial'\n",
    "plt.rcParams['font.family'] = 'sans-serif'\n",
    "plt.rcParams['text.color'] = '#525252'\n",
    "plt.rcParams['axes.labelcolor']= '#525252'\n",
    "plt.rcParams['xtick.color'] = '#525252'\n",
    "plt.rcParams['ytick.color'] = '#525252'\n",
    "plt.rcParams['font.size']=12\n",
    "\n",
    "color_palette_list = ['#009ACD', '#ADD8E6', '#63D1F4', '#0EBFE9',   \n",
    "                      '#C1F0F6', '#0099CC']\n",
    "\n",
    "labels = ['Cash Loan', 'Revolving Loan']\n",
    "percentages = [type_credit[0], type_credit[1]]\n",
    "explode=(0.1,0)\n",
    "\n",
    "ax.pie(percentages, explode=explode, labels=labels,  \n",
    "       colors=color_palette_list[0:2], autopct='%1.0f%%', \n",
    "       shadow=False, startangle=0,   \n",
    "       pctdistance=1.2,labeldistance=1.4)\n",
    "ax.axis('equal')\n",
    "ax.set_title(\"Type of credits\", color = '#525252')\n",
    "ax.legend(frameon=False, bbox_to_anchor=(1.4,1))\n",
    "\n",
    "plt.savefig('./Figures/credit_type.png', bbox_inches = 'tight', dpi=350)\n"
   ]
  },
  {
   "cell_type": "code",
   "execution_count": null,
   "id": "7963e93d",
   "metadata": {},
   "outputs": [],
   "source": [
    "tt = target1['credit_type'].value_counts()\n",
    "print(tt)\n",
    "\n",
    "tttt = target0['credit_type'].value_counts()\n",
    "print(tttt)\n",
    "total = app['credit_type'].value_counts()\n",
    "print(total)\n",
    "\n",
    "tt = (tt/app.shape[0])*100\n",
    "tttt = (tttt/app.shape[0])*100\n",
    "\n",
    "credit_type_default = [tttt[0],tt[0],tttt[1],tt[1]]\n",
    "credit_type_default = np.array(credit_type_default)\n",
    "print(credit_type_default)\n",
    "type(credit_type_default)"
   ]
  },
  {
   "cell_type": "code",
   "execution_count": null,
   "id": "f584f057",
   "metadata": {},
   "outputs": [],
   "source": [
    "fig, ax = plt.subplots()\n",
    "\n",
    "plt.rcParams['font.sans-serif'] = 'Arial'\n",
    "plt.rcParams['font.family'] = 'sans-serif'\n",
    "plt.rcParams['text.color'] = '#525252'\n",
    "plt.rcParams['axes.labelcolor']= '#525252'\n",
    "plt.rcParams['xtick.color'] = '#525252'\n",
    "plt.rcParams['ytick.color'] = '#525252'\n",
    "plt.rcParams['font.size']=12\n",
    "\n",
    "color_palette_list = ['#009ACD', '#ef3b2c','#ADD8E6', '#fb6a4a']\n",
    "\n",
    "labels = ['Cash Loan', 'Cash Loan default','Revolving Loan','Revolving Loan default']\n",
    "percentages = credit_type_default\n",
    "explode=(0.1,0.1,-0.1,0.1)\n",
    "\n",
    "ax.pie(percentages, explode=explode, labels=labels,  \n",
    "       colors=color_palette_list, autopct='%1.1f%%', \n",
    "       shadow=False, startangle=0,   \n",
    "       pctdistance=1.2,labeldistance=1.4)\n",
    "ax.axis('equal')\n",
    "ax.set_title(\"Type of credits\", color = '#525252')\n",
    "ax.legend(frameon=False, bbox_to_anchor=(1.4,1))\n",
    "\n",
    "plt.savefig('./Figures/credit_type.png', bbox_inches = 'tight', dpi=350)\n"
   ]
  },
  {
   "cell_type": "code",
   "execution_count": null,
   "id": "2c205479",
   "metadata": {},
   "outputs": [],
   "source": [
    "credit_gender = app['gender'].value_counts()\n",
    "credit_gender = (credit_gender/app.shape[0])*100\n",
    "credit_gender\n"
   ]
  },
  {
   "cell_type": "code",
   "execution_count": null,
   "id": "0271e5c9",
   "metadata": {},
   "outputs": [],
   "source": [
    "\n",
    "\n",
    "\n",
    "fig, ax = plt.subplots()\n",
    "\n",
    "#plt.rcParams['font.sans-serif'] = 'Arial'\n",
    "#plt.rcParams['font.family'] = 'sans-serif'\n",
    "#plt.rcParams['text.color'] = '#525252'\n",
    "#plt.rcParams['axes.labelcolor']= '#525252'\n",
    "#plt.rcParams['xtick.color'] = '#525252'\n",
    "#plt.rcParams['ytick.color'] = '#525252'\n",
    "#plt.rcParams['font.size']=12\n",
    "\n",
    "color_palette_list = ['#8073ac', '#993404']\n",
    "\n",
    "labels = ['Female', 'Male']\n",
    "percentages = credit_gender\n",
    "explode=(0.1,0)\n",
    "\n",
    "ax.pie(percentages, explode=explode, labels=labels,  \n",
    "       colors=color_palette_list, autopct='%1.1f%%', \n",
    "       shadow=False, startangle=0,   \n",
    "       pctdistance=1.2,labeldistance=1.4)\n",
    "ax.axis('equal')\n",
    "ax.set_title(\"Gender\", color = '#525252',y=1.1)\n",
    "ax.legend(frameon=False, bbox_to_anchor=(1.2,1))\n",
    "\n",
    "plt.savefig('./Figures/credit_gender.png', bbox_inches = 'tight', dpi=350)\n"
   ]
  },
  {
   "cell_type": "code",
   "execution_count": null,
   "id": "c9059b50",
   "metadata": {},
   "outputs": [],
   "source": [
    "# Percentage of defaults (defaults per age group compared to total defaults)\n",
    "\n",
    "age =app['age_range'].value_counts()\n",
    "total = app.shape[0]\n",
    "age_perc = (age/total)*100\n",
    "age_perc = age_perc.sort_values(ascending = False)\n",
    "\n",
    "ax = sns.barplot(x = age_perc.index, y = age_perc.values,\\\n",
    "                order = ['<30','30-45','45-60','>60'],\\\n",
    "                 palette = ['#cbc9e2','#9e9ac8','#756bb1','#54278f'])\n",
    "ax.set(xlabel = 'Age', ylabel ='Percent [%]')\n",
    "\n",
    "ax.set_title('Age of Clients', color = '#525252')\n",
    "\n",
    "plt.savefig('./Figures/credit_age.png', bbox_inches = 'tight', dpi=350)\n"
   ]
  },
  {
   "cell_type": "code",
   "execution_count": null,
   "id": "f516d871",
   "metadata": {},
   "outputs": [],
   "source": [
    "# Percentage of defaults (defaults per age group compared to total defaults)\n",
    "\n",
    "inc =app['income_range'].value_counts()\n",
    "total = app.shape[0]\n",
    "inc_perc = (inc/total)*100\n",
    "inc_perc = inc_perc.sort_values(ascending = False)\n",
    "\n",
    "ax = sns.barplot(y = inc_perc.index, x = inc_perc.values,\\\n",
    "                order = ['Low income','lower-middle class','middle class',\\\n",
    "                                'upper-middle class','upper class'],\\\n",
    "                 palette = ['#c7e9b4','#7fcdbb','#41b6c4','#2c7fb8','#253494'])\n",
    "ax.set(ylabel = 'Income', xlabel ='Percent [%]')\n",
    "\n",
    "ax.set_title('Income ranges', color = '#525252')\n",
    "\n",
    "plt.savefig('./Figures/income.png', bbox_inches = 'tight', dpi=350)\n"
   ]
  },
  {
   "cell_type": "code",
   "execution_count": null,
   "id": "390680c8",
   "metadata": {},
   "outputs": [],
   "source": [
    "\n",
    "edu =app['education'].value_counts()\n",
    "total = app.shape[0]\n",
    "edu_perc = (edu/total)*100\n",
    "edu_perc = edu_perc.sort_values(ascending = False)\n",
    "\n",
    "ax = sns.barplot(y = edu_perc.index, x = edu_perc.values,\\\n",
    "                 order = ['Lower secondary','Secondary / secondary special','Incomplete higher',\n",
    "                          'Higher education','Academic degree'],\\\n",
    "                 palette = ['#d9f0a3','#addd8e','#78c679','#31a354','#006837'])\n",
    "ax.set(ylabel = 'Education Type', xlabel ='Percent [%]')\n",
    "\n",
    "ax.set_title('Education', color = '#525252')\n",
    "\n",
    "plt.savefig('./Figures/education.png', bbox_inches = 'tight', dpi=350)\n"
   ]
  },
  {
   "cell_type": "code",
   "execution_count": null,
   "id": "4b805ddb",
   "metadata": {},
   "outputs": [],
   "source": [
    "in_type =app['income_type'].value_counts()\n",
    "in_type_perc= (in_type/app.shape[0])*100\n",
    "in_type_perc = in_type_perc.sort_values(ascending = False)\n",
    "\n",
    "ax = sns.barplot(y = in_type_perc.index, x = in_type_perc.values,\\\n",
    "#                 order = ['Lower secondary','Secondary / secondary special','Incomplete higher',\n",
    " #                         'Higher education','Academic degree'],\\\n",
    "               palette = ['#fee391','#fec44f','#fe9929','#ec7014','#cc4c02','#8c2d04'])\n",
    "ax.set(ylabel = 'Education Type', xlabel ='Percent [%]')\n",
    "\n",
    "ax.set_title('Employment Type', color = '#525252')\n",
    "\n",
    "plt.savefig('./Figures/empl_type.png', bbox_inches = 'tight', dpi=350)\n"
   ]
  },
  {
   "cell_type": "code",
   "execution_count": null,
   "id": "eb864abc",
   "metadata": {
    "scrolled": true
   },
   "outputs": [],
   "source": [
    "fam =app['family_status'].value_counts()\n",
    "fam_perc= (fam/app.shape[0])*100\n",
    "fam_perc = fam_perc.sort_values(ascending = False)\n",
    "\n",
    "ax = sns.barplot(y = fam_perc.index, x = fam_perc.values,)\n",
    "#                 order = ['Lower secondary','Secondary / secondary special','Incomplete higher',\n",
    " #                         'Higher education','Academic degree'],\\\n",
    "  #               palette = ['#d9f0a3','#addd8e','#78c679','#31a354','#006837'])\n",
    "ax.set(ylabel = 'Family Status', xlabel ='Percent [%]')\n",
    "\n",
    "ax.set_title('Family Status', color = '#525252')\n",
    "\n",
    "plt.savefig('./Figures/family_status.png', bbox_inches = 'tight', dpi=350)\n"
   ]
  },
  {
   "cell_type": "code",
   "execution_count": null,
   "id": "2124ede8",
   "metadata": {},
   "outputs": [],
   "source": [
    "cred =app['credit_range'].value_counts()\n",
    "cred_perc= (cred/app.shape[0])*100\n",
    "cred_perc = cred_perc.sort_values(ascending = False)\n",
    "\n",
    "ax = sns.barplot(y = cred_perc.index, x = cred_perc.values,\\\n",
    "                 order = ['<50000','50000-100000','150000-200000',\n",
    "                         '200000-300000','300000-500000','500000-1000000', '>1000000'],\\\n",
    "                palette = ['#f7f4f9','#e7e1ef','#d4b9da','#c994c7','#df65b0','#e7298a','#ce1256','#91003f'])\n",
    "ax.set(ylabel = 'Credit amount', xlabel ='Percent [%]')\n",
    "\n",
    "ax.set_title('Credit amount', color = '#525252')\n",
    "\n",
    "plt.savefig('./Figures/credit_amount.png', bbox_inches = 'tight', dpi=350)\n"
   ]
  },
  {
   "cell_type": "markdown",
   "id": "ec84e198",
   "metadata": {},
   "source": [
    "92% Cash loans\n",
    "50% between 30-45\n",
    "63% Female\n",
    "\n",
    "80% Upper-Middle Class\n",
    "74% Secondary education\n",
    "67% Married\n",
    "66% Working"
   ]
  },
  {
   "cell_type": "code",
   "execution_count": null,
   "id": "a5ca66fe",
   "metadata": {},
   "outputs": [],
   "source": [
    "cred_perc"
   ]
  },
  {
   "cell_type": "code",
   "execution_count": null,
   "id": "e1c55b58",
   "metadata": {},
   "outputs": [],
   "source": [
    "summary = pd.Series([type_credit[0],credit_gender[0],age_perc[0],\\\n",
    "           inc_perc[0],edu_perc[0],fam_perc[0],cred_perc[0]])\n",
    "\n",
    "summary.index = ['Cash loan','Female','30 - 45','Upper-Middle Class','Secondary Ed.','Married','$500,000-$1 Mil.']\n",
    "summary\n",
    "\n",
    "color_summary = ['#009ACD','#8073ac','#9e9ac8', '#2c7fb8','#addd8e','red','#ce1256']\n",
    "ax = sns.barplot(y = summary.index, x = summary.values,palette = color_summary) \n",
    "#                 order = ['Lower secondary','Secondary / secondary special','Incomplete higher',\n",
    " #                         'Higher education','Academic degree'],\\\n",
    "  #               \n",
    "ax.set(xlabel ='Percent [%]')\n",
    "\n",
    "ax.set_title('SUMMARY', color = '#525252')\n",
    "\n",
    "#plt.savefig('./Figures/family_status.png', bbox_inches = 'tight')\n",
    "\n",
    "\n",
    "for p in ax.patches:\n",
    "    ax.annotate(format(p.get_width(), '.1f'), \n",
    "                   ( p.get_width(), p.get_y() + p.get_height() / 2.), \n",
    "                   ha = 'center', va = 'center', \n",
    "                   size=15,\n",
    "                   xytext = (-20,0), \n",
    "                   textcoords = 'offset points')\n",
    "\n",
    "plt.savefig('./Figures/SUMMARY.png', bbox_inches = 'tight', dpi = 350)\n",
    "\n"
   ]
  },
  {
   "cell_type": "markdown",
   "id": "79ecdc08",
   "metadata": {},
   "source": [
    "# WHO DEFAULTS ON THEIR CREDIT?? \n"
   ]
  },
  {
   "cell_type": "code",
   "execution_count": null,
   "id": "b4a993c5",
   "metadata": {},
   "outputs": [],
   "source": [
    "cleanup_nums = {\"age_range\": {\"<30\":1, \"30-45\": 2, \"45-60\": 3, \">60\":4},\n",
    "               \"education\": {\"Lower secondary\": 1, \"Incomplete higher\": 2, \"Secondary / secondary special\": 3, \\\n",
    "                            \"Incomplete higher\": 4, \"Higher education\": 5, \"Academic degree\": 6},\n",
    "               \"income_range\": {\"Low income\": 1, \"lower-middle class\": 2, \"middle class\": 3, \"upper-middle class\": 4,\\\n",
    "                               \"upper class\": 5},\n",
    "               \"credit_range\": {\"<50000\": 1, \"50000-100000\": 2, \"100000-150000\": 3, \"150000-200000\": 4,\\\n",
    "                \"200000-300000\": 5, \"300000-500000\":6, \"500000-1000000\":7, \">1000000\":8},\n",
    "               \"status\":{\"Approved\":1 , \"Canceled\": 2, \"Refused\": 3, \"Unused offer\": 4},\n",
    "               \"gender\": {'M':1, 'F': 2},\n",
    "               \"goods_range\": {\"<50000\": 1, \"50000-100000\": 2, \"100000-150000\": 3, \"150000-200000\": 4,\\\n",
    "                \"200000-300000\": 5, \"300000-500000\":6, \"500000-1000000\":7, \">1000000\":8},\n",
    "               \"family_status\": {\"Married\":1, \"Single / not married\":2, \"Civil marriage\": 3, \\\n",
    "                                 \"Separated\": 4, \"Widow\": 5},\n",
    "               \"housing\": {\"House / apartment\":1, \"With parents\":2, \"Municipal apartment\":3, \\\n",
    "                           \"Rented apartment\":4, \"Office apartment\":5, \"Co-op apartment\":6,},\n",
    "               'weekday': {\"MONDAY\":1, \"TUESDAY\":2, \"WEDNESDAY\":3, \"THURSDAY\":4, \"FRIDAY\":5, \"SATURDAY\":6, \"SUNDAY\":7}}\n",
    "\n",
    "num_app = app.replace(cleanup_nums)\n",
    "\n",
    "corr = num_app.corr()\n",
    "corr = round(corr,3)"
   ]
  },
  {
   "cell_type": "code",
   "execution_count": null,
   "id": "16f98d43",
   "metadata": {},
   "outputs": [],
   "source": [
    "plt.figure(figsize = (20,15))\n",
    "sns.set(font_scale=1)\n",
    "ccm = sns.diverging_palette(220, 20, n=9)\n",
    " \n",
    "ax = sns.heatmap(corr, linecolor = 'white', linewidth = 1.5,\\\n",
    "                 vmax = 0.1, vmin = -0.1, annot = False,\\\n",
    "                cmap = ccm)\n",
    "\n",
    "plt.savefig('./Figures/full_corr_square.png', bbox_inches = 'tight', dpi=350)\n",
    "\n"
   ]
  },
  {
   "cell_type": "code",
   "execution_count": null,
   "id": "a3ecab13",
   "metadata": {},
   "outputs": [],
   "source": [
    "corr = corr[['target']]\n",
    "corr = round(corr,3).sort_values(by=['target'],ascending = False)\n",
    "\n",
    "\n",
    "plt.figure(figsize = (10,20))\n",
    "\n",
    "ccm = sns.diverging_palette(220, 20, n=9)\n",
    " \n",
    "ax = sns.heatmap(corr, linecolor = 'white', linewidth = 1.5,\\\n",
    "                 vmax = 0.1, vmin = -0.1, annot = False,\\\n",
    "                cmap = ccm, xticklabels=False)#, yticklabels = yticklabels)\n",
    "\n",
    "plt.xlabel(\"Target\") \n",
    "\n",
    "\n",
    "plt.savefig('./Figures/target_corr.png', bbox_inches = 'tight', dpi=350)\n",
    "\n"
   ]
  },
  {
   "cell_type": "code",
   "execution_count": null,
   "id": "bec4b084",
   "metadata": {},
   "outputs": [],
   "source": [
    "corr = corr[(corr['target'] >0.015) | (corr['target'] < -0.015)]\n",
    "corr = corr.iloc[1:-1]\n"
   ]
  },
  {
   "cell_type": "code",
   "execution_count": null,
   "id": "9e063eb1",
   "metadata": {},
   "outputs": [],
   "source": [
    "sns.set(font_scale=1.5)\n",
    "\n",
    "plt.figure(figsize = (5,16))\n",
    " \n",
    "yticklabels = ['Employment time','Education','Age','Age Range','Gender','Goods amount',\\\n",
    "               'Time since Id change','Time since registration change','Hour of Pre-app',\\\n",
    "               'Urban or City','Hour of application','Cradit amount','Phone',\\\n",
    "               'Housing type','Work Phone','Number of application','missmatch cities',\\\n",
    "               'Payment type','missmatch cities 2','Documents','Missmatch cities 3',\\\n",
    "              'Time since ID change 2','Time until decision','Status','Living Region',\\\n",
    "              'Time since phone change']\n",
    "\n",
    "ax = sns.heatmap(corr, linecolor = 'white', linewidth = 1.5,\\\n",
    "                 vmax = 0.1, vmin = -0.1, annot = False,\\\n",
    "                cmap = ccm, xticklabels=False, yticklabels = yticklabels)\n",
    "\n",
    "plt.xlabel(\"Target\") \n",
    "plt.savefig('./Figures/target_corr_relev.png', bbox_inches = 'tight', dpi=350)\n"
   ]
  },
  {
   "cell_type": "markdown",
   "id": "55798942",
   "metadata": {},
   "source": [
    "# MALE vs FEMALE"
   ]
  },
  {
   "cell_type": "code",
   "execution_count": null,
   "id": "a754e657",
   "metadata": {
    "scrolled": true
   },
   "outputs": [],
   "source": [
    "credit_gender[0]-credit_gender[1]"
   ]
  },
  {
   "cell_type": "code",
   "execution_count": null,
   "id": "a9137a30",
   "metadata": {},
   "outputs": [],
   "source": [
    "tar1 = target1['gender'].value_counts()\n",
    "\n",
    "\n",
    "tar0 = target0['gender'].value_counts()\n",
    "\n",
    "total = app['gender'].value_counts()\n",
    "\n",
    "tar1 = (tar1/total)*100\n",
    "tar0 = (tar0/total)*100\n",
    "\n",
    "print(tar1)\n",
    "print(tar0)\n",
    "print(total)\n",
    "\n",
    "M_def = np.array([tar0[1],tar1[1]])\n",
    "F_def = np.array([tar0[0],tar1[0]])\n"
   ]
  },
  {
   "cell_type": "code",
   "execution_count": null,
   "id": "857988ca",
   "metadata": {},
   "outputs": [],
   "source": [
    "fig, ax = plt.subplots()\n",
    "\n",
    "plt.rcParams['font.sans-serif'] = 'Arial'\n",
    "plt.rcParams['font.family'] = 'sans-serif'\n",
    "plt.rcParams['text.color'] = '#525252'\n",
    "plt.rcParams['axes.labelcolor']= '#525252'\n",
    "plt.rcParams['xtick.color'] = '#525252'\n",
    "plt.rcParams['ytick.color'] = '#525252'\n",
    "plt.rcParams['font.size']=12\n",
    "\n",
    "\n",
    "color_palette_list = ['#969696','#8073ac','#969696','#993404']\n",
    "\n",
    "labels = ['', 'DEFAULTED']\n",
    "percentages = M_def\n",
    "explode=(0.1,0)\n",
    "\n",
    "ax.pie(percentages, explode=explode, labels=labels,  \n",
    "       colors=color_palette_list[2:4], autopct='%1.1f%%', \n",
    "       shadow=False, startangle=0,   \n",
    "       pctdistance=1.2,labeldistance=1.4)\n",
    "ax.axis('equal')\n",
    "ax.set_title(\"MALE\", color = '#525252')\n",
    "#ax.legend(frameon=False, bbox_to_anchor=(1.4,1))\n",
    "\n",
    "plt.savefig('./Figures/male_default.png', bbox_inches = 'tight')\n",
    "\n",
    "\n",
    "fig, ax = plt.subplots()\n",
    "\n",
    "\n",
    "percentages = F_def\n",
    "explode=(0.1,0)\n",
    "\n",
    "ax.pie(percentages, explode=explode, labels=labels,  \n",
    "       colors=color_palette_list[0:2], autopct='%1.1f%%', \n",
    "       shadow=False, startangle=0,   \n",
    "       pctdistance=1.2,labeldistance=1.4)\n",
    "ax.axis('equal')\n",
    "ax.set_title(\"FEMALE\", color = '#525252')\n",
    "#ax.legend(frameon=False, bbox_to_anchor=(1.4,1))\n",
    "\n",
    "plt.savefig('./Figures/female_default.png', bbox_inches = 'tight', dpi=350)\n"
   ]
  },
  {
   "cell_type": "markdown",
   "id": "49749693",
   "metadata": {},
   "source": [
    "# DEFAULTS BY AGES"
   ]
  },
  {
   "cell_type": "code",
   "execution_count": null,
   "id": "e080acac",
   "metadata": {},
   "outputs": [],
   "source": [
    "# Number of defaults per age range\n",
    "targ1_age = target1['age_range'].value_counts()\n",
    "age_total = app['age_range'].value_counts()\n",
    "targ1_age_perc = (targ1_age/age_total)*100\n",
    "targ1_age_perc = targ1_age_perc.sort_values(ascending = False)"
   ]
  },
  {
   "cell_type": "code",
   "execution_count": null,
   "id": "66cedc19",
   "metadata": {},
   "outputs": [],
   "source": [
    "ax = sns.barplot(x = targ1_age_perc.index, y = targ1_age_perc.values,\\\n",
    "                order = ['<30','30-45','45-60','>60'],\\\n",
    "                 palette = ['#cbc9e2','#9e9ac8','#756bb1','#54278f'])\n",
    "ax.set(xlabel = 'Age', ylabel ='Percent [%]')\n",
    "\n",
    "ax.set_title('Defaults per age group', color = '#525252')\n",
    "\n",
    "plt.savefig('./Figures/default_age.png', bbox_inches = 'tight', dpi=350)\n"
   ]
  },
  {
   "cell_type": "code",
   "execution_count": null,
   "id": "d9b09394",
   "metadata": {},
   "outputs": [],
   "source": [
    "targ1_age_perc"
   ]
  },
  {
   "cell_type": "code",
   "execution_count": null,
   "id": "6582bd28",
   "metadata": {},
   "outputs": [],
   "source": [
    "\n",
    "inc = target1['income_range'].value_counts()\n",
    "inc_total = app['income_range'].value_counts()\n",
    "inc_perc = (inc/inc_total)*100\n",
    "inc_perc = inc_perc.sort_values(ascending = False)\n",
    "\n",
    "ax = sns.barplot(y = inc_perc.index, x = inc_perc.values,\\\n",
    "                order = ['Low income','lower-middle class','middle class',\\\n",
    "                                'upper-middle class','upper class'],\\\n",
    "                 palette = ['#c7e9b4','#7fcdbb','#41b6c4','#2c7fb8','#253494'])\n",
    "ax.set(ylabel = 'Income', xlabel ='Percent [%]')\n",
    "\n",
    "ax.set_title('Income ranges', color = '#525252')\n",
    "\n",
    "plt.savefig('./Figures/default_income.png', bbox_inches = 'tight', dpi=350)\n"
   ]
  },
  {
   "cell_type": "code",
   "execution_count": null,
   "id": "dc6f53d6",
   "metadata": {},
   "outputs": [],
   "source": [
    "inc_perc"
   ]
  },
  {
   "cell_type": "markdown",
   "id": "5756bdcf",
   "metadata": {},
   "source": [
    "# Default by education\n"
   ]
  },
  {
   "cell_type": "code",
   "execution_count": null,
   "id": "7740ecac",
   "metadata": {},
   "outputs": [],
   "source": [
    "edu_perc"
   ]
  },
  {
   "cell_type": "code",
   "execution_count": null,
   "id": "fe9a669b",
   "metadata": {},
   "outputs": [],
   "source": [
    "edu = target1['education'].value_counts()\n",
    "total = app['education'].value_counts()\n",
    "edu_perc = (edu/total)*100\n",
    "edu_perc = edu_perc.sort_values(ascending = False)\n",
    "\n",
    "ax = sns.barplot(y = edu_perc.index, x = edu_perc.values,\\\n",
    "                 order = ['Lower secondary','Secondary / secondary special','Incomplete higher',\n",
    "                          'Higher education','Academic degree'],\\\n",
    "                 palette = ['#d9f0a3','#addd8e','#78c679','#31a354','#006837'])\n",
    "ax.set(ylabel = 'Education Type', xlabel ='Percent [%]')\n",
    "\n",
    "ax.set_title('Education', color = '#525252')\n",
    "\n",
    "plt.savefig('./Figures/default_education.png', bbox_inches = 'tight', dpi=350)\n"
   ]
  },
  {
   "cell_type": "markdown",
   "id": "7bb5ccc1",
   "metadata": {},
   "source": [
    "# Defaults by credit amount "
   ]
  },
  {
   "cell_type": "code",
   "execution_count": null,
   "id": "b0d4c05e",
   "metadata": {},
   "outputs": [],
   "source": [
    "cred = target1['credit_range'].value_counts()\n",
    "total = app['credit_range'].value_counts()\n",
    "cred_perc= (cred/total)*100\n",
    "cred_perc = cred_perc.sort_values(ascending = False)\n",
    "\n",
    "ax = sns.barplot(y = cred_perc.index, x = cred_perc.values,\\\n",
    "                 order = ['<50000','50000-100000','150000-200000',\n",
    "                         '200000-300000','300000-500000','500000-1000000', '>1000000'],\\\n",
    "                palette = ['#f7f4f9','#e7e1ef','#d4b9da','#c994c7','#df65b0','#e7298a','#ce1256','#91003f'])\n",
    "ax.set(ylabel = 'Credit amount', xlabel ='Percent [%]')\n",
    "\n",
    "ax.set_title('Credit amount', color = '#525252')\n",
    "\n",
    "plt.savefig('./Figures/default_credit_amount.png', bbox_inches = 'tight', dpi=350)\n"
   ]
  },
  {
   "cell_type": "code",
   "execution_count": null,
   "id": "6d0cda40",
   "metadata": {},
   "outputs": [],
   "source": [
    "cred_perc"
   ]
  },
  {
   "cell_type": "code",
   "execution_count": null,
   "id": "3d73ef91",
   "metadata": {},
   "outputs": [],
   "source": [
    "edu_perc"
   ]
  },
  {
   "cell_type": "markdown",
   "id": "c719ec39",
   "metadata": {},
   "source": [
    "# SUMMARY"
   ]
  },
  {
   "cell_type": "markdown",
   "id": "f3e1e6a9",
   "metadata": {},
   "source": [
    "11.5% Men\n",
    "12.1% < 30\n",
    "9% middle class\n",
    "14% Lower Sec. \n",
    "11.5% $300,000 and 500,000"
   ]
  },
  {
   "cell_type": "code",
   "execution_count": null,
   "id": "19da787f",
   "metadata": {},
   "outputs": [],
   "source": [
    "summary = pd.Series([M_def[1],targ1_age_perc[0],\\\n",
    "           9.5,edu_perc[0],cred_perc[0]])\n",
    "\n",
    "summary"
   ]
  },
  {
   "cell_type": "code",
   "execution_count": null,
   "id": "f4ba810a",
   "metadata": {},
   "outputs": [],
   "source": [
    "summary.index = ['Male','<30','Middle Class','Lower Secondary','$300,000 - $500,000']\n",
    "\n",
    "color_summary = ['#8073ac','#cbc9e2','#41b6c4', '#d9f0a3','#e7298a']\n",
    "ax = sns.barplot(y = summary.index, x = summary.values,palette = color_summary) \n",
    "#                 order = ['Lower secondary','Secondary / secondary special','Incomplete higher',\n",
    " #                         'Higher education','Academic degree'],\\\n",
    "  #               \n",
    "ax.set(xlabel ='Percent [%]')\n",
    "ax.set_title('SUMMARY', color = '#525252')\n",
    "\n",
    "#plt.savefig('./Figures/family_status.png', bbox_inches = 'tight')\n",
    "\n",
    "\n",
    "for p in ax.patches:\n",
    "    ax.annotate(format(p.get_width(), '.1f'), \n",
    "                   ( p.get_width(), p.get_y() + p.get_height() / 2.), \n",
    "                   ha = 'center', va = 'center', \n",
    "                   size=15,\n",
    "                   xytext = (-20,0), \n",
    "                   textcoords = 'offset points')\n",
    "\n",
    "plt.savefig('./Figures/default_SUMMARY.png', bbox_inches = 'tight', dpi=350)\n",
    "\n"
   ]
  },
  {
   "cell_type": "code",
   "execution_count": null,
   "id": "21a8a43e",
   "metadata": {},
   "outputs": [],
   "source": [
    "target1['credit'].mean() - target0['credit'].mean()"
   ]
  },
  {
   "cell_type": "markdown",
   "id": "f873f151",
   "metadata": {},
   "source": [
    "# Previous applications"
   ]
  },
  {
   "cell_type": "code",
   "execution_count": null,
   "id": "742e844d",
   "metadata": {},
   "outputs": [],
   "source": [
    "status = target1['status'].value_counts()\n",
    "total = app['status'].value_counts()\n",
    "status_perc= (status/total)*100\n",
    "status_perc = status_perc.sort_values(ascending = False)\n",
    "\n",
    "ax = sns.barplot(y = status_perc.index, x = status_perc.values,\\\n",
    "                 palette = ['#d73027','#4575b4','#1b7837','#762a83'])\n",
    "ax.set(ylabel = 'Status prev. credit', xlabel ='Percent [%]', title = '% Defaults per prev. credit status')\n",
    "\n",
    "plt.savefig('./Figures/default_prev_status.png', bbox_inches = 'tight', dpi=350)\n",
    "\n"
   ]
  },
  {
   "cell_type": "markdown",
   "id": "90ca3103",
   "metadata": {},
   "source": [
    "# Who is more often rejected? "
   ]
  },
  {
   "cell_type": "code",
   "execution_count": null,
   "id": "e8380687",
   "metadata": {},
   "outputs": [],
   "source": [
    "rej_gender = rej['gender'].value_counts()\n",
    "print(rej_gender)\n",
    "total_men_apps = men.shape[0]\n",
    "total_women_apps = women.shape[0]\n",
    "\n",
    "rej_gender_per[1] = round((rej_gender[1]/total_men_apps)*100,2)\n",
    "rej_gender_per[0] = round((rej_gender[0]/total_women_apps)*100,2)\n",
    "\n",
    "print(rej_gender_per)\n",
    "\n",
    "\n",
    "ax = sns.barplot(x = rej_gender_per.index, y = rej_gender_per.values,\\\n",
    "                order = ['F','M'],\\\n",
    "                 palette = ['#8073ac', '#993404'])\n",
    "ax.set(xlabel = 'Gender', ylabel ='Percent [%]', title = 'Rejection per gender')\n",
    "\n",
    "plt.savefig('./Figures/rej_gender.png', bbox_inches = 'tight', dpi=350)\n",
    "\n"
   ]
  },
  {
   "cell_type": "markdown",
   "id": "14b9852c",
   "metadata": {},
   "source": [
    "# Rejection per Age Group"
   ]
  },
  {
   "cell_type": "code",
   "execution_count": null,
   "id": "d7198d64",
   "metadata": {},
   "outputs": [],
   "source": [
    "rej_age = rej['age_range'].value_counts()\n",
    "total_age = app['age_range'].value_counts()\n",
    "\n",
    "rej_age_per = round((rej_age/total_age)*100,2)\n",
    "\n",
    "\n",
    "ax = sns.barplot(x = rej_age_per.index, y = rej_age_per.values,\\\n",
    "                 order = ['<30','30-45','45-60','>60'],\\\n",
    "                 palette = ['#cbc9e2','#9e9ac8','#756bb1','#54278f'])\n",
    "\n",
    "ax.set(xlabel = 'Age', ylabel ='Percent [%]', title = 'Rejection per Age group')\n",
    "\n",
    "plt.savefig('./Figures/rej_age.png', bbox_inches = 'tight', dpi=350)\n"
   ]
  },
  {
   "cell_type": "markdown",
   "id": "a15c7660",
   "metadata": {},
   "source": [
    "# Rejection per Income"
   ]
  },
  {
   "cell_type": "code",
   "execution_count": null,
   "id": "25ea7743",
   "metadata": {},
   "outputs": [],
   "source": [
    "rej_inc = rej['income_range'].value_counts()\n",
    "total_inc = app['income_range'].value_counts()\n",
    "\n",
    "rej_inc_per = round((rej_inc/total_inc)*100,2)\n",
    "\n",
    "\n",
    "ax = sns.barplot(y = rej_inc_per.index, x = rej_inc_per.values,\\\n",
    "                 order = ['Low income','lower-middle class','middle class',\\\n",
    "                                'upper-middle class','upper class'],\\\n",
    "                 palette = ['#c7e9b4','#7fcdbb','#41b6c4','#2c7fb8','#253494'])\n",
    "\n",
    "ax.set(ylabel = 'Income', xlabel ='Percent [%]', title = 'Rejection per Income class')\n",
    "\n",
    "plt.savefig('./Figures/rej_income.png', bbox_inches = 'tight', dpi=350)"
   ]
  },
  {
   "cell_type": "markdown",
   "id": "3692df4c",
   "metadata": {},
   "source": [
    "# Rejection per Education level"
   ]
  },
  {
   "cell_type": "code",
   "execution_count": null,
   "id": "23cfdaf4",
   "metadata": {},
   "outputs": [],
   "source": [
    "rej_edu = rej['education'].value_counts()\n",
    "total_edu = app['education'].value_counts()\n",
    "\n",
    "rej_edu_per = round((rej_edu/total_edu)*100,2)\n",
    "\n",
    "\n",
    "ax = sns.barplot(y = rej_edu_per.index, x = rej_edu_per.values,\\\n",
    "                 order = ['Lower secondary','Secondary / secondary special','Incomplete higher',\n",
    "                          'Higher education','Academic degree'],\\\n",
    "                 palette = ['#d9f0a3','#addd8e','#78c679','#31a354','#006837'])\n",
    "\n",
    "ax.set(ylabel = 'Education', xlabel ='Percent [%]', title = 'Rejection per Education level')\n",
    "\n",
    "plt.savefig('./Figures/rej_education.png', bbox_inches = 'tight', dpi=350)"
   ]
  },
  {
   "cell_type": "markdown",
   "id": "643a75d2",
   "metadata": {},
   "source": [
    "# Rejections per Credit amount"
   ]
  },
  {
   "cell_type": "code",
   "execution_count": null,
   "id": "ce6cd27c",
   "metadata": {},
   "outputs": [],
   "source": [
    "#rej.columns\n",
    "#'pre_credit_range'\n",
    "rej_cred = rej['pre_credit_range'].value_counts()\n",
    "total_cred = app['pre_credit_range'].value_counts()\n",
    "\n",
    "rej_cred_per = round((rej_cred/total_cred)*100,2)\n",
    "\n",
    "\n",
    "ax = sns.barplot(y = rej_cred_per.index, x = rej_cred_per.values,\\\n",
    "                 order = ['<50000','50000-100000','150000-200000',\n",
    "                         '200000-300000','300000-500000','500000-1000000', '>1000000'],\\\n",
    "                palette = ['#f7f4f9','#e7e1ef','#d4b9da','#c994c7','#df65b0','#e7298a','#ce1256','#91003f'])\n",
    "\n",
    "ax.set(ylabel = 'Prev. Credit Amount', xlabel ='Percent [%]', title = 'Rejection per credit amount')\n",
    "\n",
    "plt.savefig('./Figures/rej_cred.png', bbox_inches = 'tight', dpi=350)"
   ]
  },
  {
   "cell_type": "code",
   "execution_count": null,
   "id": "ea2fe70c",
   "metadata": {},
   "outputs": [],
   "source": []
  }
 ],
 "metadata": {
  "kernelspec": {
   "display_name": "Python 3",
   "language": "python",
   "name": "python3"
  },
  "language_info": {
   "codemirror_mode": {
    "name": "ipython",
    "version": 3
   },
   "file_extension": ".py",
   "mimetype": "text/x-python",
   "name": "python",
   "nbconvert_exporter": "python",
   "pygments_lexer": "ipython3",
   "version": "3.8.8"
  }
 },
 "nbformat": 4,
 "nbformat_minor": 5
}
